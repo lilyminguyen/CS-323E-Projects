{
  "cells": [
    {
      "cell_type": "code",
      "execution_count": null,
      "metadata": {
        "id": "yDtRhgwB94m3"
      },
      "outputs": [],
      "source": [
        "\"\"\"\n",
        "The provided function \"bins\" your data and may produce a more readable graph than\n",
        "what you may currently have. Feel free to use this code, and modify if needed.\n",
        "\n",
        "How to use this code:\n",
        "\n",
        "PARAMETERS\n",
        "data -> data collected during project. More information below.\n",
        "n_mu -> Number of distinct mu values you have tested.\n",
        "resolution -> number of bins. Lower means less clear graph. (400 recommended)\n",
        "mu_min -> Minimum mu value tested (should be 2.4)\n",
        "mu_max -> Maximum mu value tested (should be 4.0)\n",
        "x_min -> Minimum value of data point (default 0)\n",
        "x_max -> Maximum value of data point (default 1)\n",
        "\n",
        "OUTPUT\n",
        "Returns nothing. Should display a graph.\n",
        "\n",
        "NOTES\n",
        "n_data -> Number of \"data\" iterations you have.\n",
        "data -> A 2D numpy array of shape (n_mu, n_data). Each row represents a certain mu value. Each column represents the ith data iteration.\n",
        "For example data[5][100] means the point found at the 100th data iteration for the 5th mu value you analyzed.\n",
        "\n",
        "Please replace graph title and axis titles.\n",
        "\"\"\"\n",
        "\n",
        "import numpy as np\n",
        "import matplotlib.pyplot as plt\n",
        "\n",
        "def create_graph(data, n_mu, resolution = 400, mu_min = 2.4, mu_max = 4.0, x_min = 0, x_max = 1):\n",
        "\n",
        "  #Warning if data is not formatted correctly\n",
        "  if (len(data.shape) != 2) or (data.shape[0] != n_mu):\n",
        "    print(\"data may be in wrong shape!\")\n",
        "\n",
        "  #Bin the data\n",
        "  binned_grid = np.zeros((n_mu, resolution))\n",
        "  for mu_ctr in range(n_mu):\n",
        "    binned, _ = np.histogram(data[mu_ctr], bins = resolution, range = (0, 1))\n",
        "    binned = binned.astype('float64')\n",
        "    binned /= np.max(binned)\n",
        "    binned_grid[mu_ctr] = binned\n",
        "  binned_grid = np.transpose(binned_grid) #Had to transpose for correct orientation.\n",
        "\n",
        "  #Create graph\n",
        "  plt.figure(figsize=(10, 8))\n",
        "  plt.imshow(binned_grid, origin = \"lower\", extent=[mu_min, mu_max, x_min, x_max], cmap='binary')\n",
        "  plt.title(\"Graph Title\")\n",
        "  plt.xlabel(\"X Axis Title\")\n",
        "  plt.ylabel(\"Y Axis Title\")\n",
        "  plt.show()"
      ]
    },
    {
      "cell_type": "code",
      "execution_count": null,
      "metadata": {
        "id": "f4Pu9Kha-AUT"
      },
      "outputs": [],
      "source": []
    }
  ],
  "metadata": {
    "colab": {
      "provenance": []
    },
    "kernelspec": {
      "display_name": "Python 3",
      "name": "python3"
    },
    "language_info": {
      "name": "python"
    }
  },
  "nbformat": 4,
  "nbformat_minor": 0
}
